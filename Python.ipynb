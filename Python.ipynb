{
 "cells": [
  {
   "cell_type": "markdown",
   "id": "eaa9af61",
   "metadata": {},
   "source": [
    "# Python Tutorial\n"
   ]
  },
  {
   "cell_type": "code",
   "execution_count": 1,
   "id": "47c352d9",
   "metadata": {},
   "outputs": [
    {
     "name": "stdout",
     "output_type": "stream",
     "text": [
      "Hello \n"
     ]
    }
   ],
   "source": [
    "#First python program\n",
    "print(\"Hello \")"
   ]
  },
  {
   "cell_type": "code",
   "execution_count": 2,
   "id": "47f3877d",
   "metadata": {},
   "outputs": [
    {
     "name": "stdout",
     "output_type": "stream",
     "text": [
      "My name is Saphal Dhakal\n"
     ]
    }
   ],
   "source": [
    "#concatenation\n",
    "a='My '\n",
    "b=\"name \"\n",
    "c=\"is\"\n",
    "d=\"Saphal Dhakal\"\n",
    "print(a+b+c,d)"
   ]
  },
  {
   "cell_type": "code",
   "execution_count": 3,
   "id": "08a9e3ce",
   "metadata": {},
   "outputs": [
    {
     "name": "stdout",
     "output_type": "stream",
     "text": [
      "enter temperature in Fahrenheit: 98\n",
      "98.0 F =  36.666666666666664 C\n"
     ]
    }
   ],
   "source": [
    "#fahrenheit to centigrade\n",
    "degreeF=float(input('enter temperature in Fahrenheit: '))\n",
    "degreeC=(degreeF-32)*5/9\n",
    "print(degreeF,'F = ',degreeC, 'C')"
   ]
  },
  {
   "cell_type": "code",
   "execution_count": 4,
   "id": "c4d87a43",
   "metadata": {},
   "outputs": [
    {
     "name": "stdout",
     "output_type": "stream",
     "text": [
      "6\n",
      "6\n"
     ]
    }
   ],
   "source": [
    "#no need to provide data type\n",
    "a=2\n",
    "b=4\n",
    "c=a+b\n",
    "print(c)\n",
    "print(a+b)"
   ]
  },
  {
   "cell_type": "code",
   "execution_count": 5,
   "id": "edf0afbe",
   "metadata": {},
   "outputs": [
    {
     "name": "stdout",
     "output_type": "stream",
     "text": [
      "enter an integer: 12\n",
      "12  is positive number.\n"
     ]
    }
   ],
   "source": [
    "#if, else if\n",
    "num=int(input(\"enter an integer: \"))\n",
    "if num>0:\n",
    "    print(num, \" is positive number.\")\n",
    "elif num<0:\n",
    "    print(num, \" is negative.\")\n",
    "else:\n",
    "    print(num, \" is neither positive nor negative.\")"
   ]
  },
  {
   "cell_type": "code",
   "execution_count": 6,
   "id": "e1dba96e",
   "metadata": {},
   "outputs": [
    {
     "name": "stdout",
     "output_type": "stream",
     "text": [
      "Enter your income : 120000\n",
      "Tax for income of  120000  is  0\n"
     ]
    }
   ],
   "source": [
    "income = int(input(\"Enter your income : \"))\n",
    "if income<=250000:\n",
    "    tax=0\n",
    "elif income<=500000:\n",
    "    tax=0.05*(income-250000)\n",
    "elif income<=750000:\n",
    "    tax=0.1*(income-500000)+12500\n",
    "elif income<=1000000:\n",
    "    tax=0.15*(income-750000)+37500\n",
    "elif income<=1250000:\n",
    "    tax=0.2*(income-1000000)+75000\n",
    "elif income<=1500000:\n",
    "    tax=0.25*(income-1250000)+125000\n",
    "else:\n",
    "    tax=0.3*(income-1500000)+187500\n",
    "print(\"Tax for income of \", income, \" is \", tax)"
   ]
  },
  {
   "cell_type": "code",
   "execution_count": 7,
   "id": "5ebd8388",
   "metadata": {},
   "outputs": [
    {
     "name": "stdout",
     "output_type": "stream",
     "text": [
      "Apple Banana Mango Orange Pear \n",
      "\n",
      "A p p l e "
     ]
    }
   ],
   "source": [
    "#for loop\n",
    "fruits=['Apple','Banana','Mango','Orange','Pear']\n",
    "for i in fruits:\n",
    "    print(i,end=(' '))\n",
    "print('\\n')\n",
    "a=\"Apple\"\n",
    "for i in a:\n",
    "    print(i,end=(' '))"
   ]
  },
  {
   "cell_type": "code",
   "execution_count": 8,
   "id": "09a13251",
   "metadata": {},
   "outputs": [
    {
     "name": "stdout",
     "output_type": "stream",
     "text": [
      "Enter a number for multiplication table: 21\n",
      "21  *  1  =  21\n",
      "21  *  2  =  42\n",
      "21  *  3  =  63\n",
      "21  *  4  =  84\n",
      "21  *  5  =  105\n",
      "21  *  6  =  126\n",
      "21  *  7  =  147\n",
      "21  *  8  =  168\n",
      "21  *  9  =  189\n",
      "21  *  10  =  210\n"
     ]
    }
   ],
   "source": [
    "#range\n",
    "#multiplication table\n",
    "num=int(input(\"Enter a number for multiplication table: \"))\n",
    "for i in range(1,11):\n",
    "    print(num,' * ',i, \" = \" , num*i)"
   ]
  },
  {
   "cell_type": "code",
   "execution_count": 9,
   "id": "31e9094e",
   "metadata": {},
   "outputs": [
    {
     "name": "stdout",
     "output_type": "stream",
     "text": [
      "Enter a number: 3\n",
      "Sum of first  3  natural number is  6\n",
      "Average of first  3  natural number is  2.0\n"
     ]
    }
   ],
   "source": [
    "#sum and average of first n natural number\n",
    "num = int(input(\"Enter a number: \"))\n",
    "sum=0\n",
    "for i in range(1,num+1):\n",
    "    sum+=i\n",
    "print('Sum of first ',num, ' natural number is ',sum)\n",
    "average=1\n",
    "average=sum/num\n",
    "print('Average of first ',num, ' natural number is ',average)\n",
    "\n",
    "    "
   ]
  },
  {
   "cell_type": "code",
   "execution_count": 10,
   "id": "eefe4526",
   "metadata": {},
   "outputs": [
    {
     "name": "stdout",
     "output_type": "stream",
     "text": [
      "hello\n",
      "150\n",
      "hello\n",
      "250\n",
      "hello\n",
      "180\n"
     ]
    }
   ],
   "source": [
    "num=[150,250,180,560,200]\n",
    "for i in num:\n",
    "    if i>500:\n",
    "        break\n",
    "    elif i<150:\n",
    "        continue\n",
    "    elif i%5==0:\n",
    "        print(\"hello\")\n",
    "    \n",
    "    else:\n",
    "        print(\"HI\")\n",
    "    print(i)\n"
   ]
  },
  {
   "cell_type": "code",
   "execution_count": 11,
   "id": "f598a423",
   "metadata": {},
   "outputs": [
    {
     "name": "stdout",
     "output_type": "stream",
     "text": [
      "0\n",
      "1\n",
      "2\n",
      "3\n",
      "4\n",
      "5\n",
      "Number printed successfully\n"
     ]
    }
   ],
   "source": [
    "for i in range(6):\n",
    "    print(i)\n",
    "else:\n",
    "    print(\"Number printed successfully\")"
   ]
  },
  {
   "cell_type": "code",
   "execution_count": 12,
   "id": "e357f65b",
   "metadata": {},
   "outputs": [
    {
     "name": "stdout",
     "output_type": "stream",
     "text": [
      "1\n",
      "a\n",
      "b\n",
      "c\n",
      "2\n",
      "a\n",
      "b\n",
      "c\n",
      "3\n",
      "a\n",
      "b\n",
      "c\n"
     ]
    }
   ],
   "source": [
    "# nested loop\n",
    "num_list=[1,2,3]\n",
    "alpha_list=['a','b','c']\n",
    "for num in num_list:\n",
    "    print(num)\n",
    "    for alpha in alpha_list:\n",
    "        print(alpha)\n",
    "\n"
   ]
  },
  {
   "cell_type": "code",
   "execution_count": 13,
   "id": "ead22e69",
   "metadata": {},
   "outputs": [
    {
     "name": "stdout",
     "output_type": "stream",
     "text": [
      "Number divisible by 5 are\n",
      "5\n",
      "10\n",
      "15\n",
      "20\n",
      "25\n",
      "30\n",
      "35\n",
      "40\n",
      "45\n",
      "50\n",
      "55\n",
      "60\n",
      "65\n",
      "70\n",
      "75\n",
      "80\n",
      "85\n",
      "90\n",
      "95\n",
      "100\n",
      "sum  is  1050\n"
     ]
    }
   ],
   "source": [
    "# nested loop\n",
    "sum=0\n",
    "print('Number divisible by 5 are')\n",
    "for i in range(5,101,5):\n",
    "        print(i)\n",
    "        sum+=i\n",
    "print('sum  is ',sum)\n",
    "        "
   ]
  },
  {
   "cell_type": "code",
   "execution_count": 14,
   "id": "c9fc06d4",
   "metadata": {},
   "outputs": [
    {
     "name": "stdout",
     "output_type": "stream",
     "text": [
      "[]\n",
      "[0, 1, 2, 3, 4, 'mango']\n",
      "[1, 2, 3, 4, 'mango']\n",
      "[0, 1, 2, 3, 4]\n",
      "[2, 3]\n"
     ]
    }
   ],
   "source": [
    "# list\n",
    "alist=[]\n",
    "print(alist)\n",
    "myList=[0,1,2,3,4,'mango']\n",
    "print(myList[:])\n",
    "print(myList[1:])\n",
    "print(myList[:5])\n",
    "print(myList[2:4])"
   ]
  },
  {
   "cell_type": "code",
   "execution_count": 15,
   "id": "a04cef36",
   "metadata": {},
   "outputs": [
    {
     "name": "stdout",
     "output_type": "stream",
     "text": [
      "Hell\n",
      "lo fr\n",
      "hy\n",
      "\n",
      "ks\n",
      "ello from Dursiks\n",
      "\n",
      "ello from Dursikshy\n"
     ]
    }
   ],
   "source": [
    "myString='Hello from Dursikshya'\n",
    "print(myString[0:4])\n",
    "print(myString[3:8])\n",
    "print(myString[-3:-1])\n",
    "print(myString[-1:-5])\n",
    "print(myString[-5:-3])\n",
    "print(myString[1:-3])\n",
    "print(myString[-3:5])\n",
    "print(myString[-20:20])\n"
   ]
  },
  {
   "cell_type": "code",
   "execution_count": 16,
   "id": "52437ab3",
   "metadata": {},
   "outputs": [
    {
     "name": "stdout",
     "output_type": "stream",
     "text": [
      "[1, 2, 3, 4, 5]\n",
      "[1, 2, 3, 4, 5]\n",
      "[1, 2, 3, 4, 5, 6, 2]\n",
      "[1, 3, 4, 5, 6]\n",
      "[1, 3, 4, 6]\n",
      "[1, 3, 4]\n"
     ]
    }
   ],
   "source": [
    "#append\n",
    "list=[1,2,3,4,5]\n",
    "print(list)\n",
    "print(list[:])\n",
    "list.append(6)\n",
    "list.append(2)\n",
    "print(list)\n",
    "\n",
    "#remove\n",
    "list.remove(2)\n",
    "list.remove(2)\n",
    "print(list)\n",
    "list.remove(list[3])\n",
    "print(list)\n",
    "list.remove(list[3])\n",
    "print(list)\n",
    "del(list)"
   ]
  },
  {
   "cell_type": "code",
   "execution_count": 17,
   "id": "44113432",
   "metadata": {},
   "outputs": [
    {
     "name": "stdout",
     "output_type": "stream",
     "text": [
      "[1, 2, 3]\n",
      "[1, 3]\n",
      "<class 'list'>\n"
     ]
    }
   ],
   "source": [
    "list=[1,2,3]\n",
    "print(list)\n",
    "del(list[1])\n",
    "print(list)\n",
    "del(list)\n",
    "print(list)"
   ]
  },
  {
   "cell_type": "code",
   "execution_count": 18,
   "id": "28b16f8a",
   "metadata": {},
   "outputs": [
    {
     "name": "stdout",
     "output_type": "stream",
     "text": [
      "(5,)\n"
     ]
    }
   ],
   "source": [
    "#touple with single element\n",
    "t=(5,)\n",
    "print(t)"
   ]
  },
  {
   "cell_type": "code",
   "execution_count": 19,
   "id": "cd49ad27",
   "metadata": {},
   "outputs": [
    {
     "name": "stdout",
     "output_type": "stream",
     "text": [
      "(2, 3, 'a', 'b')\n",
      "(2, 3, 2, 3, 2, 3)\n"
     ]
    }
   ],
   "source": [
    "#touple\n",
    "toup1=(2,3)\n",
    "toup2=('a','b')\n",
    "print(toup1+toup2)\n",
    "print(toup1*3)"
   ]
  },
  {
   "cell_type": "code",
   "execution_count": 22,
   "id": "2be5ef66",
   "metadata": {},
   "outputs": [
    {
     "name": "stdout",
     "output_type": "stream",
     "text": [
      "(2, 3, 'a', 'b')\n",
      "(2, 3, 2, 3, 2, 3)\n"
     ]
    },
    {
     "ename": "NameError",
     "evalue": "name 'toup1' is not defined",
     "output_type": "error",
     "traceback": [
      "\u001b[1;31m---------------------------------------------------------------------------\u001b[0m",
      "\u001b[1;31mNameError\u001b[0m                                 Traceback (most recent call last)",
      "\u001b[1;32m~\\AppData\\Local\\Temp\\ipykernel_2740\\11463796.py\u001b[0m in \u001b[0;36m<module>\u001b[1;34m\u001b[0m\n\u001b[0;32m      4\u001b[0m \u001b[0mprint\u001b[0m\u001b[1;33m(\u001b[0m\u001b[0mtoup1\u001b[0m\u001b[1;33m*\u001b[0m\u001b[1;36m3\u001b[0m\u001b[1;33m)\u001b[0m\u001b[1;33m\u001b[0m\u001b[1;33m\u001b[0m\u001b[0m\n\u001b[0;32m      5\u001b[0m \u001b[1;32mdel\u001b[0m \u001b[0mtoup1\u001b[0m\u001b[1;33m\u001b[0m\u001b[1;33m\u001b[0m\u001b[0m\n\u001b[1;32m----> 6\u001b[1;33m \u001b[0mprint\u001b[0m\u001b[1;33m(\u001b[0m\u001b[0mtoup1\u001b[0m\u001b[1;33m)\u001b[0m\u001b[1;33m\u001b[0m\u001b[1;33m\u001b[0m\u001b[0m\n\u001b[0m",
      "\u001b[1;31mNameError\u001b[0m: name 'toup1' is not defined"
     ]
    }
   ],
   "source": [
    "toup1=(2,3)\n",
    "toup2=('a','b')\n",
    "print(toup1+toup2)\n",
    "print(toup1*3)\n",
    "del toup1\n",
    "print(toup1)"
   ]
  },
  {
   "cell_type": "code",
   "execution_count": 23,
   "id": "acd9b665",
   "metadata": {},
   "outputs": [
    {
     "name": "stdout",
     "output_type": "stream",
     "text": [
      "2\n",
      "1\n",
      "3\n",
      "True\n",
      "False\n",
      "False\n",
      "False\n"
     ]
    }
   ],
   "source": [
    "toup=('a','p','p','l','e')\n",
    "print(toup.count('p'))\n",
    "print(toup.index('p'))\n",
    "print(toup.index('l'))\n",
    "print('a' in toup)\n",
    "print('A' in toup)\n",
    "print('s' in toup)\n",
    "print('a' not in toup)"
   ]
  },
  {
   "cell_type": "code",
   "execution_count": 24,
   "id": "5d309e23",
   "metadata": {},
   "outputs": [
    {
     "name": "stdout",
     "output_type": "stream",
     "text": [
      "{1: 1, 2: 4, 3: 9, 4: 16}\n"
     ]
    }
   ],
   "source": [
    "#dict\n",
    "square={1:1,2:4,3:9,4:16}\n",
    "print(square)"
   ]
  },
  {
   "cell_type": "code",
   "execution_count": 25,
   "id": "e589acdc",
   "metadata": {},
   "outputs": [
    {
     "name": "stdout",
     "output_type": "stream",
     "text": [
      "16\n"
     ]
    }
   ],
   "source": [
    "print(square.pop(4))"
   ]
  },
  {
   "cell_type": "code",
   "execution_count": 26,
   "id": "58c646ca",
   "metadata": {},
   "outputs": [
    {
     "name": "stdout",
     "output_type": "stream",
     "text": [
      "{1: 1, 2: 4, 3: 9}\n"
     ]
    }
   ],
   "source": [
    "print(square)"
   ]
  },
  {
   "cell_type": "code",
   "execution_count": 27,
   "id": "91895657",
   "metadata": {},
   "outputs": [
    {
     "name": "stdout",
     "output_type": "stream",
     "text": [
      "(3, 9)\n"
     ]
    }
   ],
   "source": [
    "print(square.popitem())"
   ]
  },
  {
   "cell_type": "code",
   "execution_count": 28,
   "id": "7449d295",
   "metadata": {},
   "outputs": [
    {
     "name": "stdout",
     "output_type": "stream",
     "text": [
      "{1: 1, 2: 4}\n"
     ]
    }
   ],
   "source": [
    "print(square)"
   ]
  },
  {
   "cell_type": "code",
   "execution_count": 29,
   "id": "4fe3856d",
   "metadata": {},
   "outputs": [],
   "source": [
    "del square[1]"
   ]
  },
  {
   "cell_type": "code",
   "execution_count": 30,
   "id": "3f112aa9",
   "metadata": {},
   "outputs": [
    {
     "name": "stdout",
     "output_type": "stream",
     "text": [
      "{2: 4}\n"
     ]
    }
   ],
   "source": [
    "print(square)"
   ]
  },
  {
   "cell_type": "code",
   "execution_count": 31,
   "id": "2786b698",
   "metadata": {},
   "outputs": [],
   "source": [
    "square.clear()"
   ]
  },
  {
   "cell_type": "code",
   "execution_count": 32,
   "id": "a171f4f4",
   "metadata": {},
   "outputs": [
    {
     "name": "stdout",
     "output_type": "stream",
     "text": [
      "{}\n"
     ]
    }
   ],
   "source": [
    "print(square)"
   ]
  },
  {
   "cell_type": "code",
   "execution_count": 33,
   "id": "5091a60d",
   "metadata": {},
   "outputs": [],
   "source": [
    "del square"
   ]
  },
  {
   "cell_type": "code",
   "execution_count": 34,
   "id": "4bd4192d",
   "metadata": {},
   "outputs": [
    {
     "ename": "NameError",
     "evalue": "name 'square' is not defined",
     "output_type": "error",
     "traceback": [
      "\u001b[1;31m---------------------------------------------------------------------------\u001b[0m",
      "\u001b[1;31mNameError\u001b[0m                                 Traceback (most recent call last)",
      "\u001b[1;32m~\\AppData\\Local\\Temp\\ipykernel_2740\\3646405350.py\u001b[0m in \u001b[0;36m<module>\u001b[1;34m\u001b[0m\n\u001b[1;32m----> 1\u001b[1;33m \u001b[0mprint\u001b[0m\u001b[1;33m(\u001b[0m\u001b[0msquare\u001b[0m\u001b[1;33m)\u001b[0m\u001b[1;33m\u001b[0m\u001b[1;33m\u001b[0m\u001b[0m\n\u001b[0m",
      "\u001b[1;31mNameError\u001b[0m: name 'square' is not defined"
     ]
    }
   ],
   "source": [
    "print(square)"
   ]
  },
  {
   "cell_type": "code",
   "execution_count": 35,
   "id": "d8fc3983",
   "metadata": {},
   "outputs": [
    {
     "name": "stdout",
     "output_type": "stream",
     "text": [
      "Starting with function\n"
     ]
    }
   ],
   "source": [
    "#function\n",
    "def my_func():\n",
    "    print(\"Starting with function\")\n",
    "    \n",
    "    \n",
    "my_func()"
   ]
  },
  {
   "cell_type": "code",
   "execution_count": 36,
   "id": "4da4b7cb",
   "metadata": {},
   "outputs": [
    {
     "name": "stdout",
     "output_type": "stream",
     "text": [
      "ram jii\n"
     ]
    }
   ],
   "source": [
    "\n",
    "\n",
    "def assign(fname,lname):\n",
    "    print(fname,lname)\n",
    "    \n",
    "    \n",
    "assign(\"ram\",\"jii\")"
   ]
  },
  {
   "cell_type": "code",
   "execution_count": 37,
   "id": "ca00a724",
   "metadata": {},
   "outputs": [
    {
     "name": "stdout",
     "output_type": "stream",
     "text": [
      "the product is :  20\n",
      "the product is :  180\n",
      "remainder is  1\n"
     ]
    }
   ],
   "source": [
    "#task\n",
    "def multiply(a,b):\n",
    "    print(\"the product is : \",a*b)\n",
    "    \n",
    "    \n",
    "multiply(4,5)\n",
    "multiply(3,60)\n",
    "\n",
    "def div():\n",
    "    q=21\n",
    "    d=5\n",
    "    r=q%d\n",
    "    print('remainder is ',r)\n",
    "    \n",
    "div()"
   ]
  },
  {
   "cell_type": "code",
   "execution_count": 38,
   "id": "af256420",
   "metadata": {},
   "outputs": [
    {
     "name": "stdout",
     "output_type": "stream",
     "text": [
      "Enter first number 12\n",
      "Enter second number 23\n",
      "sum is  35\n"
     ]
    }
   ],
   "source": [
    "first=int(input('Enter first number '))\n",
    "second=int(input('Enter second number '))\n",
    "\n",
    "\n",
    "\n",
    "def add(first,second):\n",
    "    sum=first+second\n",
    "    return sum\n",
    "\n",
    "\n",
    "sum=add(first,second)\n",
    "print('sum is ', sum)"
   ]
  },
  {
   "cell_type": "code",
   "execution_count": 39,
   "id": "779a708e",
   "metadata": {},
   "outputs": [
    {
     "name": "stdout",
     "output_type": "stream",
     "text": [
      "Enter degree in fahrenheit: 35\n",
      "35 F =  1.6666666666666667 C\n"
     ]
    }
   ],
   "source": [
    "# using method\n",
    "#fahrenheit to celcius\n",
    "\n",
    "degreeF=int(input(\"Enter degree in fahrenheit: \"))\n",
    "\n",
    "\n",
    "\n",
    "def convertToCelcius(degreeF):\n",
    "    degreeC=(degreeF-32)*5/9\n",
    "    return degreeC\n",
    "\n",
    "degreeC=convertToCelcius(degreeF)\n",
    "print(degreeF,'F = ',degreeC,'C')"
   ]
  },
  {
   "cell_type": "code",
   "execution_count": 40,
   "id": "498ccd90",
   "metadata": {},
   "outputs": [
    {
     "name": "stdout",
     "output_type": "stream",
     "text": [
      "Enter a number: 67\n",
      "76\n"
     ]
    }
   ],
   "source": [
    "#reverse\n",
    "num=int(input(\"Enter a number: \"))\n",
    "\n",
    "output=0\n",
    "def reverse(num):\n",
    "    global output\n",
    "    if(num>0):\n",
    "        r=num%10\n",
    "        \n",
    "        output=(output*10)+r\n",
    "        num=num//10\n",
    "        reverse(num)\n",
    "    return output\n",
    "\n",
    "\n",
    "output=reverse(num)   \n",
    "print(output)\n",
    "        "
   ]
  },
  {
   "cell_type": "code",
   "execution_count": 41,
   "id": "1f516299",
   "metadata": {},
   "outputs": [
    {
     "name": "stdout",
     "output_type": "stream",
     "text": [
      "Enter a number: 234\n",
      "432\n"
     ]
    }
   ],
   "source": [
    "#reverse\n",
    "num=int(input(\"Enter a number: \"))\n",
    "\n",
    "output=0\n",
    "def reverse(num):\n",
    "    global output\n",
    "    if(num>0):\n",
    "        r=num%10\n",
    "        \n",
    "        output=(output*10)+r\n",
    "        num=num//10\n",
    "        reverse(num)\n",
    "    return output\n",
    "\n",
    "\n",
    "output=reverse(num)   \n",
    "print(output)\n",
    "        "
   ]
  },
  {
   "cell_type": "code",
   "execution_count": 42,
   "id": "76e555a8",
   "metadata": {},
   "outputs": [
    {
     "name": "stdout",
     "output_type": "stream",
     "text": [
      "enter temperature: 98\n",
      "Choose 'c' for celcius to fah and 'f' for Fah to celcius : f\n",
      "98 F  =  36.666666666666664 C\n"
     ]
    }
   ],
   "source": [
    "#user choice for conversion\n",
    "t=int(input(\"enter temperature: \"))\n",
    "choice=input(\"Choose 'c' for celcius to fah and 'f' for Fah to celcius : \")\n",
    "\n",
    "\n",
    "\n",
    "def temprConversion(choice):\n",
    "    if (choice=='c') or (choice=='C'):\n",
    "        f=(t*9/5)+32\n",
    "        print(t,choice.upper(),' = ', f,'F')\n",
    "    elif choice.lower()=='f':\n",
    "        c=(t-32)*5/9\n",
    "        print(t,choice.upper(),' = ',c,'C')\n",
    "    else:\n",
    "        print(\"wrong choice\")\n",
    "\n",
    "temprConversion(choice)"
   ]
  },
  {
   "cell_type": "code",
   "execution_count": 43,
   "id": "b3a2afc3",
   "metadata": {},
   "outputs": [
    {
     "name": "stdout",
     "output_type": "stream",
     "text": [
      "Enter Principle of Amount1200\n",
      "Enter Time for amount12\n",
      "Enter rate for amount12\n",
      "The Simple interest of the amount is  1728.0\n"
     ]
    }
   ],
   "source": [
    "x=int(input(\"Enter Principle of Amount\"))\n",
    "y=int(input(\"Enter Time for amount\"))\n",
    "z=int(input(\"Enter rate for amount\"))\n",
    "I= x*y*z/100\n",
    "print(\"The Simple interest of the amount is \", I)"
   ]
  },
  {
   "cell_type": "code",
   "execution_count": 44,
   "id": "de1efea6",
   "metadata": {},
   "outputs": [
    {
     "name": "stdout",
     "output_type": "stream",
     "text": [
      "{1: 'saphal', 2: 'ram', 3: 'sita', 4: 'shyam'}\n"
     ]
    }
   ],
   "source": [
    "my_dict = {1: 'saphal', 2:'ram', 3:'sita', 4:'shyam'}\n",
    "print(my_dict)"
   ]
  },
  {
   "cell_type": "code",
   "execution_count": 45,
   "id": "602adc23",
   "metadata": {},
   "outputs": [
    {
     "name": "stdout",
     "output_type": "stream",
     "text": [
      "The area of rectangle is\n"
     ]
    }
   ],
   "source": [
    "def area():  #defining a fxn \n",
    "    print(\"The area of rectangle is\",)\n",
    "    \n",
    "area() #calling a fxn"
   ]
  },
  {
   "cell_type": "code",
   "execution_count": 46,
   "id": "5b5b0e33",
   "metadata": {},
   "outputs": [
    {
     "name": "stdout",
     "output_type": "stream",
     "text": [
      "jack\n"
     ]
    }
   ],
   "source": [
    "#variable, parameter , argument -----\n",
    "name =10   #variable\n",
    "def assign(name):  #paraker7er\n",
    "    print(name)   #non return type as printed inside\n",
    "    \n",
    "    \n",
    "assign('jack')  # argument"
   ]
  },
  {
   "cell_type": "code",
   "execution_count": 47,
   "id": "83f3cdc7",
   "metadata": {},
   "outputs": [
    {
     "name": "stdout",
     "output_type": "stream",
     "text": [
      "the sum is  45\n"
     ]
    }
   ],
   "source": [
    " def sum(first,second):\n",
    "        print(\"the sum is \",first+second)\n",
    "    \n",
    "\n",
    "sum(20,25)"
   ]
  },
  {
   "cell_type": "code",
   "execution_count": 48,
   "id": "b8518e86",
   "metadata": {},
   "outputs": [
    {
     "name": "stdout",
     "output_type": "stream",
     "text": [
      "The area of rectangle is  12\n"
     ]
    }
   ],
   "source": [
    "def area():\n",
    "    length = 3\n",
    "    breadth = 4\n",
    "    area = length * breadth\n",
    "    print(\"The area of rectangle is \", area)\n",
    "    \n",
    "    \n",
    "area()"
   ]
  },
  {
   "cell_type": "code",
   "execution_count": 49,
   "id": "f32431c3",
   "metadata": {},
   "outputs": [
    {
     "name": "stdout",
     "output_type": "stream",
     "text": [
      "enter a number15\n",
      "enter a second number16\n",
      "31\n"
     ]
    }
   ],
   "source": [
    "#returntype \n",
    "first = int(input(\"enter a number\"))\n",
    "second = int(input(\"enter a second number\"))\n",
    "\n",
    "\n",
    "\n",
    "def add(first,second):\n",
    "    answer=first+second\n",
    "    return answer\n",
    "\n",
    "\n",
    "answer = add(first, second)\n",
    "print(answer)\n",
    "    "
   ]
  },
  {
   "cell_type": "code",
   "execution_count": 50,
   "id": "981989cf",
   "metadata": {},
   "outputs": [
    {
     "name": "stdout",
     "output_type": "stream",
     "text": [
      "apple\n",
      "saphal\n",
      "roshan\n",
      "rajnish\n",
      "banana\n",
      "saphal\n",
      "roshan\n",
      "rajnish\n",
      "mango\n",
      "saphal\n",
      "roshan\n",
      "rajnish\n"
     ]
    }
   ],
   "source": [
    "fruits = ['apple','banana', 'mango']\n",
    "names = ['saphal', 'roshan', 'rajnish']\n",
    "for x in fruits:\n",
    "    print(x)\n",
    "    \n",
    "    for y in names:\n",
    "        print(y)\n",
    "        "
   ]
  },
  {
   "cell_type": "code",
   "execution_count": 51,
   "id": "bed01b92",
   "metadata": {},
   "outputs": [
    {
     "name": "stdout",
     "output_type": "stream",
     "text": [
      "0\n",
      "5\n",
      "10\n",
      "15\n",
      "20\n",
      "25\n",
      "30\n",
      "35\n",
      "40\n",
      "45\n",
      "50\n",
      "55\n",
      "60\n",
      "65\n",
      "70\n",
      "75\n",
      "80\n",
      "85\n",
      "90\n",
      "95\n",
      "100\n",
      "1050\n"
     ]
    }
   ],
   "source": [
    "sum=0\n",
    "for x in range(0, 105, 5):\n",
    "    print(x)\n",
    "    sum=sum+x\n",
    "print(sum)\n"
   ]
  },
  {
   "cell_type": "code",
   "execution_count": 52,
   "id": "93465331",
   "metadata": {},
   "outputs": [
    {
     "name": "stdout",
     "output_type": "stream",
     "text": [
      "2\n",
      "0\n",
      "True\n",
      "False\n"
     ]
    }
   ],
   "source": [
    "my_tuple = ('a','p','l','e','p')\n",
    "print(my_tuple.count('p')) #count calls the no of values in the tuple\n",
    "print(my_tuple.index('a'))  #index calls the position of vaues in tuple starting from 0,1,2,3,....\n",
    "print('p' in my_tuple)  #tuple are case-sensitive\n",
    "print('x' in my_tuple)\n"
   ]
  },
  {
   "cell_type": "code",
   "execution_count": null,
   "id": "eda2c143",
   "metadata": {},
   "outputs": [],
   "source": []
  }
 ],
 "metadata": {
  "kernelspec": {
   "display_name": "Python 3 (ipykernel)",
   "language": "python",
   "name": "python3"
  },
  "language_info": {
   "codemirror_mode": {
    "name": "ipython",
    "version": 3
   },
   "file_extension": ".py",
   "mimetype": "text/x-python",
   "name": "python",
   "nbconvert_exporter": "python",
   "pygments_lexer": "ipython3",
   "version": "3.9.13"
  }
 },
 "nbformat": 4,
 "nbformat_minor": 5
}
